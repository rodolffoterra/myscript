{
 "cells": [
  {
   "cell_type": "code",
   "execution_count": 2,
   "id": "35f22208",
   "metadata": {},
   "outputs": [
    {
     "name": "stdout",
     "output_type": "stream",
     "text": [
      "Collecting rpy2\n",
      "  Downloading rpy2-3.4.3.tar.gz (188 kB)\n",
      "Requirement already satisfied: cffi>=1.10.0 in c:\\users\\rodolfo\\appdata\\local\\programs\\python\\python39\\lib\\site-packages (from rpy2) (1.14.5)\n",
      "Requirement already satisfied: jinja2 in c:\\users\\rodolfo\\appdata\\local\\programs\\python\\python39\\lib\\site-packages (from rpy2) (2.11.3)\n",
      "Requirement already satisfied: pytz in c:\\users\\rodolfo\\appdata\\local\\programs\\python\\python39\\lib\\site-packages (from rpy2) (2021.1)\n",
      "Collecting tzlocal\n",
      "  Downloading tzlocal-2.1-py2.py3-none-any.whl (16 kB)\n",
      "Requirement already satisfied: pycparser in c:\\users\\rodolfo\\appdata\\local\\programs\\python\\python39\\lib\\site-packages (from cffi>=1.10.0->rpy2) (2.20)\n",
      "Requirement already satisfied: MarkupSafe>=0.23 in c:\\users\\rodolfo\\appdata\\local\\programs\\python\\python39\\lib\\site-packages (from jinja2->rpy2) (1.1.1)\n",
      "Building wheels for collected packages: rpy2\n",
      "  Building wheel for rpy2 (setup.py): started\n",
      "  Building wheel for rpy2 (setup.py): finished with status 'done'\n",
      "  Created wheel for rpy2: filename=rpy2-3.4.3-py3-none-any.whl size=191806 sha256=32ef53d22c3e585f69adad7d54cc63f2b5cf6330c5fd462e754e3b9592228119\n",
      "  Stored in directory: c:\\users\\rodolfo\\appdata\\local\\pip\\cache\\wheels\\4b\\ce\\bc\\cfb5cc663ecd43edcdccd6efb71a58caacdf9fc22f59482a3a\n",
      "Successfully built rpy2\n",
      "Installing collected packages: tzlocal, rpy2\n",
      "Successfully installed rpy2-3.4.3 tzlocal-2.1\n"
     ]
    }
   ],
   "source": [
    "!pip install rpy2"
   ]
  },
  {
   "cell_type": "code",
   "execution_count": 3,
   "id": "34d45c0e",
   "metadata": {},
   "outputs": [
    {
     "name": "stderr",
     "output_type": "stream",
     "text": [
      "c:\\users\\rodolfo\\appdata\\local\\programs\\python\\python39\\lib\\site-packages\\rpy2\\robjects\\packages.py:366: UserWarning: The symbol 'quartz' is not in this R namespace/package.\n",
      "  warnings.warn(\n"
     ]
    }
   ],
   "source": [
    "# enables the %%R magic, not necessary if you've already done this\n",
    "%load_ext rpy2.ipython\n",
    "\n",
    "import pandas as pd\n",
    "df = pd.DataFrame({\n",
    "    'cups_of_coffee': [0, 1, 2, 3, 4, 5, 6, 7, 8, 9],\n",
    "    'productivity': [2, 5, 6, 8, 9, 8, 0, 1, 0, -1]\n",
    "})"
   ]
  },
  {
   "cell_type": "code",
   "execution_count": 19,
   "id": "3833eb6f",
   "metadata": {},
   "outputs": [
    {
     "name": "stderr",
     "output_type": "stream",
     "text": [
      "R[write to console]: `geom_smooth()` using method = 'loess' and formula 'y ~ x'\n",
      "\n"
     ]
    },
    {
     "data": {
      "image/png": "[encoded data removed]"
     },
     "metadata": {},
     "output_type": "display_data"
    }
   ],
   "source": [
    "%%R -i df -w 10 -h 5 --units in -r 100\n",
    "# import df from global environment\n",
    "# make default figure size 5 by 5 inches with 200 dpi resolution\n",
    "\n",
    "library(ggplot2)\n",
    "ggplot(df, aes(x=cups_of_coffee, y=productivity)) + \n",
    "geom_line() + \n",
    "theme_classic() +\n",
    "geom_smooth(aes(col=\"red\")) +\n",
    "labs(title =\"Productivity x Cups of Coffe\",\n",
    "    x = \"Cups of Coffe\",\n",
    "    y = \"Productivity\")\n"
   ]
  }
 ],
 "metadata": {
  "kernelspec": {
   "display_name": "Python 3",
   "language": "python",
   "name": "python3"
  },
  "language_info": {
   "codemirror_mode": {
    "name": "ipython",
    "version": 3
   },
   "file_extension": ".py",
   "mimetype": "text/x-python",
   "name": "python",
   "nbconvert_exporter": "python",
   "pygments_lexer": "ipython3",
   "version": "3.9.4"
  }
 },
 "nbformat": 4,
 "nbformat_minor": 5
}
