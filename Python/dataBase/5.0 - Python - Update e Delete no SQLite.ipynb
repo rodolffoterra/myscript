{
 "cells": [
  {
   "cell_type": "markdown",
   "metadata": {},
   "source": [
    "# Update e Delete"
   ]
  },
  {
   "cell_type": "code",
   "execution_count": 16,
   "metadata": {},
   "outputs": [],
   "source": [
    "import sqlite3\n",
    "import random\n",
    "import time\n",
    "import datetime\n",
    "\n",
    "# criando uma conexão\n",
    "conn = sqlite3.connect('dsa.db')\n",
    "\n",
    "# criando um cursor\n",
    "c = conn.cursor()\n",
    "\n",
    "# função para criar uma tabela\n",
    "def create_table():\n",
    "    c.execute('CREATE TABLE IF NOT EXISTS produtos(id INTEGER PRIMARY KEY AUTOINCREMENT NOT NULL, date TEXT, '\\\n",
    "              'prod_name TEXT, valor REAL)')\n",
    "    \n",
    "# Função para inicar uma linha\n",
    "def data_insert():\n",
    "    c.execute(\"INSERT INTO produtos VALUES('2018-05-02 12:34:45', 'Teclado', 130.00 )\")\n",
    "    conn.commit()\n",
    "    c.close()\n",
    "    conn.close()\n",
    "\n",
    "# Usando variáveis para inserir dados    \n",
    "def data_insert_var():\n",
    "    new_date = datetime.datetime.now()\n",
    "    new_prod_name = \"Monitor\"\n",
    "    new_valor = random.randrange(50,100)\n",
    "    c.execute(\"INSERT INTO produtos (date, prod_name, valor) VALUES (?, ?, ?)\", (new_date, new_prod_name, new_valor))\n",
    "    conn.commit()\n",
    "    \n",
    "# Leitura de dados:\n",
    "def leitura_todos_dados():\n",
    "    c.execute(\"SELECT * FROM PRODUTOS\")\n",
    "    for linha in c.fetchall():\n",
    "        print(linha)\n",
    "    \n",
    "# Leitura de registro específicos\n",
    "def leitura_registros():\n",
    "    c.execute(\"SELECT * FROM PRODUTOS WHERE valor > 80.0\")\n",
    "    for linha in c.fetchall():\n",
    "        print(linha)\n",
    "        \n",
    "def leitura_colunas():\n",
    "    c.execute(\"SELECT * FROM PRODUTOS\")\n",
    "    for linha in c.fetchall():\n",
    "        print(linha[3])\n",
    "        \n",
    "# Update\n",
    "def atualiza_dados():\n",
    "    c.execute(\"UPDATE produtos SET valor = 70.0 WHERE valor > 80.00\")\n",
    "    \n",
    "# Delete\n",
    "def remove_dados():\n",
    "    c.execute(\"DELETE FROM produtos WHERE valor < 70.00\")\n",
    "    conn.commit()"
   ]
  },
  {
   "cell_type": "code",
   "execution_count": 12,
   "metadata": {},
   "outputs": [],
   "source": [
    "atualiza_dados()"
   ]
  },
  {
   "cell_type": "code",
   "execution_count": 15,
   "metadata": {},
   "outputs": [
    {
     "name": "stdout",
     "output_type": "stream",
     "text": [
      "(10, '2018-05-02 14:32:11', 'Teclado', 70.0)\n",
      "(11, '2021-03-16 14:08:41.859137', 'Monitor', 70.0)\n",
      "(12, '2021-03-16 14:08:42.952538', 'Monitor', 70.0)\n",
      "(13, '2021-03-16 14:08:44.170985', 'Monitor', 70.0)\n",
      "(14, '2021-03-16 14:08:45.306234', 'Monitor', 70.0)\n",
      "(15, '2021-03-16 14:08:46.443861', 'Monitor', 79.0)\n",
      "(16, '2021-03-16 14:08:47.571036', 'Monitor', 65.0)\n",
      "(17, '2021-03-16 14:08:48.658947', 'Monitor', 70.0)\n",
      "(18, '2021-03-16 14:08:49.768933', 'Monitor', 71.0)\n",
      "(19, '2021-03-16 14:08:50.901830', 'Monitor', 70.0)\n",
      "(20, '2021-03-16 14:08:52.035715', 'Monitor', 70.0)\n"
     ]
    }
   ],
   "source": [
    "leitura_todos_dados()"
   ]
  },
  {
   "cell_type": "code",
   "execution_count": 17,
   "metadata": {},
   "outputs": [],
   "source": [
    "remove_dados()"
   ]
  },
  {
   "cell_type": "code",
   "execution_count": 18,
   "metadata": {},
   "outputs": [
    {
     "name": "stdout",
     "output_type": "stream",
     "text": [
      "(10, '2018-05-02 14:32:11', 'Teclado', 90.0)\n",
      "(11, '2021-03-16 14:08:41.859137', 'Monitor', 97.0)\n",
      "(12, '2021-03-16 14:08:42.952538', 'Monitor', 92.0)\n",
      "(13, '2021-03-16 14:08:44.170985', 'Monitor', 97.0)\n",
      "(14, '2021-03-16 14:08:45.306234', 'Monitor', 85.0)\n",
      "(15, '2021-03-16 14:08:46.443861', 'Monitor', 79.0)\n",
      "(17, '2021-03-16 14:08:48.658947', 'Monitor', 95.0)\n",
      "(18, '2021-03-16 14:08:49.768933', 'Monitor', 71.0)\n",
      "(19, '2021-03-16 14:08:50.901830', 'Monitor', 90.0)\n",
      "(20, '2021-03-16 14:08:52.035715', 'Monitor', 91.0)\n"
     ]
    }
   ],
   "source": [
    "leitura_todos_dados()"
   ]
  }
 ],
 "metadata": {
  "kernelspec": {
   "display_name": "Python 3",
   "language": "python",
   "name": "python3"
  },
  "language_info": {
   "codemirror_mode": {
    "name": "ipython",
    "version": 3
   },
   "file_extension": ".py",
   "mimetype": "text/x-python",
   "name": "python",
   "nbconvert_exporter": "python",
   "pygments_lexer": "ipython3",
   "version": "3.7.6"
  }
 },
 "nbformat": 4,
 "nbformat_minor": 4
}
